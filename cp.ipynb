{
 "cells": [
  {
   "cell_type": "code",
   "execution_count": 1,
   "id": "f5c5b554",
   "metadata": {},
   "outputs": [],
   "source": [
    "import pandas as pd\n",
    "import numpy as np\n",
    "import matplotlib.pyplot as plt\n",
    "import scipy.stats as stats\n",
    "%matplotlib inline"
   ]
  },
  {
   "cell_type": "code",
   "execution_count": 2,
   "id": "b368ccd3",
   "metadata": {},
   "outputs": [
    {
     "name": "stderr",
     "output_type": "stream",
     "text": [
      "C:\\Users\\User\\Documents\\frubana\\pruebas\\timeChange\\env\\lib\\site-packages\\IPython\\core\\interactiveshell.py:3457: DtypeWarning: Columns (8) have mixed types.Specify dtype option on import or set low_memory=False.\n",
      "  exec(code_obj, self.user_global_ns, self.user_ns)\n"
     ]
    }
   ],
   "source": [
    "clients_df = pd.read_csv('.\\clientes\\Sales_frequency_and_gmv_2022_01_27.csv')\n",
    "customer_df =  pd.read_csv('.\\clientes\\customer.csv')\n",
    "site_df = pd.read_csv('.\\clientes\\site.csv')"
   ]
  },
  {
   "cell_type": "code",
   "execution_count": 3,
   "id": "17649260",
   "metadata": {},
   "outputs": [
    {
     "data": {
      "text/plain": [
       "batch_id                 int64\n",
       "customer_id              int64\n",
       "source_id                int64\n",
       "site_id                  int64\n",
       "country_id               int64\n",
       "email_address           object\n",
       "first_name              object\n",
       "last_name               object\n",
       "phone                   object\n",
       "business_segment_id      int64\n",
       "birth_date_id            int64\n",
       "date_created_id          int64\n",
       "date_updated_id          int64\n",
       "identification_type     object\n",
       "identification_value    object\n",
       "archived                  bool\n",
       "added_date              object\n",
       "active                    bool\n",
       "dtype: object"
      ]
     },
     "execution_count": 3,
     "metadata": {},
     "output_type": "execute_result"
    }
   ],
   "source": [
    "customer_df.dtypes"
   ]
  },
  {
   "cell_type": "code",
   "execution_count": 4,
   "id": "eea256dd",
   "metadata": {},
   "outputs": [
    {
     "data": {
      "text/plain": [
       "dim_customer          int64\n",
       "full_date            object\n",
       "subtotal            float64\n",
       "number_purchases      int64\n",
       "difference          float64\n",
       "dtype: object"
      ]
     },
     "execution_count": 4,
     "metadata": {},
     "output_type": "execute_result"
    }
   ],
   "source": [
    "clients_df.dtypes"
   ]
  },
  {
   "cell_type": "code",
   "execution_count": 5,
   "id": "88b77102",
   "metadata": {},
   "outputs": [],
   "source": [
    "customer_df = customer_df.merge(site_df, left_on='site_id', right_on='site_id', how='left')[['customer_id', 'source_id',  'identifier_value', 'email_address', 'phone']]"
   ]
  },
  {
   "cell_type": "code",
   "execution_count": 6,
   "id": "0abe75ac",
   "metadata": {},
   "outputs": [],
   "source": [
    "clients_df['full_date'] = pd.to_datetime(clients_df['full_date'])"
   ]
  },
  {
   "cell_type": "code",
   "execution_count": 7,
   "id": "47fca8ae",
   "metadata": {},
   "outputs": [],
   "source": [
    "clients_df = clients_df[clients_df['dim_customer'] != 0]"
   ]
  },
  {
   "cell_type": "code",
   "execution_count": 8,
   "id": "1c99dfdf",
   "metadata": {},
   "outputs": [],
   "source": [
    "clients_df = clients_df.merge(customer_df, left_on='dim_customer', right_on='customer_id', how='left')[['dim_customer', 'source_id', 'full_date', 'subtotal', 'number_purchases', 'difference',  'email_address', 'phone', 'identifier_value']]"
   ]
  },
  {
   "cell_type": "code",
   "execution_count": 26,
   "id": "027ab137",
   "metadata": {},
   "outputs": [],
   "source": [
    "#clients_df[clients_df['dim_customer'] == 146]"
   ]
  },
  {
   "cell_type": "code",
   "execution_count": 10,
   "id": "9e44d3aa",
   "metadata": {},
   "outputs": [],
   "source": [
    "colors = {\n",
    "    'Q0-Q1':'tab:red',\n",
    "    'Q1-Q2':'tab:blue',\n",
    "    'Q2-Q3':'tab:green',\n",
    "    'Q3-Q4':'orange',\n",
    "}"
   ]
  },
  {
   "cell_type": "code",
   "execution_count": 11,
   "id": "b835d981",
   "metadata": {},
   "outputs": [],
   "source": [
    "counter = clients_df.loc[clients_df.groupby(['dim_customer'])['full_date'].idxmax().reset_index().iloc[:,1]]"
   ]
  },
  {
   "cell_type": "code",
   "execution_count": 12,
   "id": "498ab57b",
   "metadata": {},
   "outputs": [],
   "source": [
    "counter['quantile'] = pd.qcut(counter['number_purchases'], 4, labels=['Q0-Q1','Q1-Q2','Q2-Q3','Q3-Q4'])"
   ]
  },
  {
   "cell_type": "code",
   "execution_count": 13,
   "id": "3025c228",
   "metadata": {},
   "outputs": [
    {
     "data": {
      "text/plain": [
       "count    91414.000000\n",
       "mean         7.078456\n",
       "std          7.681325\n",
       "min          1.000000\n",
       "25%          2.000000\n",
       "50%          5.000000\n",
       "75%         10.000000\n",
       "max         77.000000\n",
       "Name: number_purchases, dtype: float64"
      ]
     },
     "execution_count": 13,
     "metadata": {},
     "output_type": "execute_result"
    }
   ],
   "source": [
    "counter['number_purchases'].describe()"
   ]
  },
  {
   "cell_type": "code",
   "execution_count": 14,
   "id": "39980b89",
   "metadata": {},
   "outputs": [
    {
     "data": {
      "text/plain": [
       "Q0-Q1    29804\n",
       "Q1-Q2    21259\n",
       "Q2-Q3    20538\n",
       "Q3-Q4    19813\n",
       "Name: quantile, dtype: int64"
      ]
     },
     "execution_count": 14,
     "metadata": {},
     "output_type": "execute_result"
    }
   ],
   "source": [
    "counter['quantile'].value_counts()"
   ]
  },
  {
   "cell_type": "code",
   "execution_count": 15,
   "id": "4e125ac7",
   "metadata": {},
   "outputs": [
    {
     "data": {
      "text/plain": [
       "([<matplotlib.patches.Wedge at 0x221d8015210>,\n",
       "  <matplotlib.patches.Wedge at 0x221d80155d0>,\n",
       "  <matplotlib.patches.Wedge at 0x221d8015ab0>,\n",
       "  <matplotlib.patches.Wedge at 0x221d8015f90>],\n",
       " [Text(0.9397648175125626, -0.5717010475463379, 'Q0-Q1'),\n",
       "  Text(0.3900382458416753, 1.0285281555605317, 'Q1-Q2'),\n",
       "  Text(-0.9670031748206022, 0.5243137036992989, 'Q2-Q3'),\n",
       "  Text(-0.6924473095939332, -0.8547027105585449, 'Q3-Q4')])"
      ]
     },
     "execution_count": 15,
     "metadata": {},
     "output_type": "execute_result"
    },
    {
     "data": {
      "image/png": "[encoded data removed]",
      "text/plain": [
       "<Figure size 432x288 with 1 Axes>"
      ]
     },
     "metadata": {},
     "output_type": "display_data"
    }
   ],
   "source": [
    "fig, ax = plt.subplots()\n",
    "ax.pie(counter['quantile'].value_counts(), labels = counter['quantile'].value_counts().index, startangle=-90)"
   ]
  },
  {
   "cell_type": "code",
   "execution_count": 16,
   "id": "3b9e3b13",
   "metadata": {},
   "outputs": [
    {
     "data": {
      "text/plain": [
       "Text(0.5, 0, 'Number of Purchases')"
      ]
     },
     "execution_count": 16,
     "metadata": {},
     "output_type": "execute_result"
    },
    {
     "data": {
      "image/png": "[encoded data removed]",
      "text/plain": [
       "<Figure size 720x720 with 1 Axes>"
      ]
     },
     "metadata": {
      "needs_background": "light"
     },
     "output_type": "display_data"
    }
   ],
   "source": [
    "fig, ax = plt.subplots(figsize=(10,10))\n",
    "ax.hist(counter['number_purchases'], bins=77)\n",
    "ax.set_title('General Histogram')\n",
    "ax.set_xlabel('Number of Purchases')"
   ]
  },
  {
   "cell_type": "code",
   "execution_count": 17,
   "id": "d7791c44",
   "metadata": {},
   "outputs": [
    {
     "data": {
      "text/plain": [
       "Text(0.5, 1.0, 'Sao paulo Histogram')"
      ]
     },
     "execution_count": 17,
     "metadata": {},
     "output_type": "execute_result"
    },
    {
     "data": {
      "image/png": "[encoded data removed]",
      "text/plain": [
       "<Figure size 2160x720 with 3 Axes>"
      ]
     },
     "metadata": {
      "needs_background": "light"
     },
     "output_type": "display_data"
    }
   ],
   "source": [
    "fig, ax = plt.subplots(1,3, figsize=(30,10))\n",
    "ax[0].hist(counter[counter['identifier_value']=='BOG']['number_purchases'], bins=75)\n",
    "ax[0].set_title('Bogotá Histogram')\n",
    "ax[1].hist(counter[counter['identifier_value']=='CMX']['number_purchases'], bins=76)\n",
    "ax[1].set_title('Ciudad de Mexico Histogram')\n",
    "ax[2].hist(counter[counter['identifier_value']=='SPO']['number_purchases'], bins=75)\n",
    "ax[2].set_title('Sao paulo Histogram')\n"
   ]
  },
  {
   "cell_type": "code",
   "execution_count": 18,
   "id": "b912f0c3",
   "metadata": {},
   "outputs": [
    {
     "data": {
      "text/plain": [
       "count    25240.000000\n",
       "mean         6.982171\n",
       "std          7.098722\n",
       "min          1.000000\n",
       "25%          2.000000\n",
       "50%          5.000000\n",
       "75%         10.000000\n",
       "max         75.000000\n",
       "Name: number_purchases, dtype: float64"
      ]
     },
     "execution_count": 18,
     "metadata": {},
     "output_type": "execute_result"
    }
   ],
   "source": [
    "counter[counter['identifier_value']=='BOG']['number_purchases'].describe()"
   ]
  },
  {
   "cell_type": "code",
   "execution_count": 19,
   "id": "23ad4cf9",
   "metadata": {},
   "outputs": [
    {
     "data": {
      "text/plain": [
       "count    24106.000000\n",
       "mean         6.130590\n",
       "std          6.547302\n",
       "min          1.000000\n",
       "25%          2.000000\n",
       "50%          4.000000\n",
       "75%          8.000000\n",
       "max         76.000000\n",
       "Name: number_purchases, dtype: float64"
      ]
     },
     "execution_count": 19,
     "metadata": {},
     "output_type": "execute_result"
    }
   ],
   "source": [
    "counter[counter['identifier_value']=='CMX']['number_purchases'].describe()"
   ]
  },
  {
   "cell_type": "code",
   "execution_count": 20,
   "id": "395e4389",
   "metadata": {},
   "outputs": [
    {
     "data": {
      "text/plain": [
       "count    24142.000000\n",
       "mean         8.706197\n",
       "std          9.602698\n",
       "min          1.000000\n",
       "25%          2.000000\n",
       "50%          5.000000\n",
       "75%         12.000000\n",
       "max         75.000000\n",
       "Name: number_purchases, dtype: float64"
      ]
     },
     "execution_count": 20,
     "metadata": {},
     "output_type": "execute_result"
    }
   ],
   "source": [
    "counter[counter['identifier_value']=='SPO']['number_purchases'].describe()"
   ]
  },
  {
   "cell_type": "code",
   "execution_count": 21,
   "id": "8f134f17",
   "metadata": {},
   "outputs": [
    {
     "data": {
      "text/plain": [
       "dim_customer\n",
       "146         ([1.0], [5])\n",
       "722         ([1.0], [2])\n",
       "842         ([3.0], [8])\n",
       "846         ([3.0], [3])\n",
       "1026        ([5.0], [5])\n",
       "               ...      \n",
       "2345099     ([7.0], [5])\n",
       "2345867    ([1.0], [22])\n",
       "2359307     ([1.0], [3])\n",
       "2375531     ([2.0], [5])\n",
       "2387467     ([1.0], [6])\n",
       "Name: difference, Length: 6416, dtype: object"
      ]
     },
     "execution_count": 21,
     "metadata": {},
     "output_type": "execute_result"
    }
   ],
   "source": [
    "clients_df[(clients_df['number_purchases']>=10) & (clients_df['identifier_value']=='BOG')].groupby(['dim_customer'])['difference'].agg(stats.mode)"
   ]
  },
  {
   "cell_type": "code",
   "execution_count": 22,
   "id": "40d64fa7",
   "metadata": {},
   "outputs": [
    {
     "data": {
      "text/plain": [
       "<AxesSubplot:>"
      ]
     },
     "execution_count": 22,
     "metadata": {},
     "output_type": "execute_result"
    },
    {
     "data": {
      "image/png": "[encoded data removed]",
      "text/plain": [
       "<Figure size 432x288 with 1 Axes>"
      ]
     },
     "metadata": {
      "needs_background": "light"
     },
     "output_type": "display_data"
    }
   ],
   "source": [
    "clients_df[(clients_df['number_purchases']>=0) ].groupby(['dim_customer'])['difference'].agg(stats.mode).apply(lambda x: x[0][0]).hist(bins=15)"
   ]
  },
  {
   "cell_type": "code",
   "execution_count": 23,
   "id": "1c8a28c9",
   "metadata": {},
   "outputs": [],
   "source": [
    "gmv = clients_df.groupby(['dim_customer']).sum().reset_index()[['dim_customer', 'subtotal']]"
   ]
  },
  {
   "cell_type": "code",
   "execution_count": 24,
   "id": "9eaf1ba3",
   "metadata": {},
   "outputs": [],
   "source": [
    "#gmv['quantile'] = pd.qcut(counter['number_purchases'], 4, labels=['Q0-Q1','Q1-Q2','Q2-Q3','Q3-Q4'])"
   ]
  },
  {
   "cell_type": "code",
   "execution_count": 25,
   "id": "01aef8be",
   "metadata": {},
   "outputs": [
    {
     "data": {
      "text/plain": [
       "count    9.141400e+04\n",
       "mean     4.462356e+05\n",
       "std      2.305241e+06\n",
       "min      1.500000e-01\n",
       "25%      1.119582e+03\n",
       "50%      5.162747e+03\n",
       "75%      3.080206e+05\n",
       "max      3.622990e+08\n",
       "Name: subtotal, dtype: float64"
      ]
     },
     "execution_count": 25,
     "metadata": {},
     "output_type": "execute_result"
    }
   ],
   "source": [
    "gmv['subtotal'].describe()"
   ]
  },
  {
   "cell_type": "code",
   "execution_count": null,
   "id": "8a4c5fd3",
   "metadata": {},
   "outputs": [],
   "source": []
  }
 ],
 "metadata": {
  "kernelspec": {
   "display_name": "Python 3 (ipykernel)",
   "language": "python",
   "name": "python3"
  },
  "language_info": {
   "codemirror_mode": {
    "name": "ipython",
    "version": 3
   },
   "file_extension": ".py",
   "mimetype": "text/x-python",
   "name": "python",
   "nbconvert_exporter": "python",
   "pygments_lexer": "ipython3",
   "version": "3.10.1"
  }
 },
 "nbformat": 4,
 "nbformat_minor": 5
}
